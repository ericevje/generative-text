{
 "cells": [
  {
   "cell_type": "code",
   "execution_count": 56,
   "metadata": {},
   "outputs": [],
   "source": [
    "import requests\n",
    "from bs4 import BeautifulSoup\n",
    "import time"
   ]
  },
  {
   "cell_type": "code",
   "execution_count": 90,
   "metadata": {},
   "outputs": [],
   "source": [
    "root_dir = 'https://www.gutenberg.org/'\n",
    "root_url = 'https://www.gutenberg.org/ebooks/bookshelf/57'\n",
    "page = requests.get(root_url)"
   ]
  },
  {
   "cell_type": "code",
   "execution_count": 91,
   "metadata": {},
   "outputs": [],
   "source": [
    "soup = BeautifulSoup(page.text, 'html.parser')"
   ]
  },
  {
   "cell_type": "code",
   "execution_count": 98,
   "metadata": {},
   "outputs": [
    {
     "name": "stdout",
     "output_type": "stream",
     "text": [
      "['/ebooks/1232', '/ebooks/1497', '/ebooks/7370', '/ebooks/4363', '/ebooks/1998', '/ebooks/61', '/ebooks/5827', '/ebooks/5740', '/ebooks/34901', '/ebooks/852', '/ebooks/1974', '/ebooks/4280', '/ebooks/1656', '/ebooks/3800', '/ebooks/9662', '/ebooks/59', '/ebooks/1642', '/ebooks/19322', '/ebooks/8438', '/ebooks/11224', '/ebooks/4705', '/ebooks/1726', '/ebooks/7205', '/ebooks/4320', '/ebooks/2529']\n",
      "/files/1232/1232-0.txt\n",
      "/ebooks/1497.txt.utf-8\n",
      "/ebooks/7370.txt.utf-8\n",
      "/ebooks/4363.txt.utf-8\n",
      "/files/1998/1998-0.txt\n",
      "/ebooks/61.txt.utf-8\n",
      "/ebooks/5827.txt.utf-8\n",
      "/ebooks/34901.txt.utf-8\n",
      "/ebooks/852.txt.utf-8\n",
      "/ebooks/1974.txt.utf-8\n",
      "/files/4280/4280-0.txt\n",
      "/files/1656/1656-0.txt\n",
      "/ebooks/3800.txt.utf-8\n",
      "/ebooks/9662.txt.utf-8\n",
      "/ebooks/59.txt.utf-8\n",
      "/ebooks/1642.txt.utf-8\n",
      "/ebooks/19322.txt.utf-8\n",
      "/files/8438/8438-0.txt\n",
      "/ebooks/11224.txt.utf-8\n",
      "/files/4705/4705-0.txt\n",
      "/ebooks/1726.txt.utf-8\n",
      "/ebooks/7205.txt.utf-8\n",
      "/ebooks/4320.txt.utf-8\n",
      "/ebooks/2529.txt.utf-8\n",
      "['/files/1232/1232-0.txt', '/ebooks/1497.txt.utf-8', '/ebooks/7370.txt.utf-8', '/ebooks/4363.txt.utf-8', '/files/1998/1998-0.txt', '/ebooks/61.txt.utf-8', '/ebooks/5827.txt.utf-8', '/ebooks/34901.txt.utf-8', '/ebooks/852.txt.utf-8', '/ebooks/1974.txt.utf-8', '/files/4280/4280-0.txt', '/files/1656/1656-0.txt', '/ebooks/3800.txt.utf-8', '/ebooks/9662.txt.utf-8', '/ebooks/59.txt.utf-8', '/ebooks/1642.txt.utf-8', '/ebooks/19322.txt.utf-8', '/files/8438/8438-0.txt', '/ebooks/11224.txt.utf-8', '/files/4705/4705-0.txt', '/ebooks/1726.txt.utf-8', '/ebooks/7205.txt.utf-8', '/ebooks/4320.txt.utf-8', '/ebooks/2529.txt.utf-8']\n"
     ]
    }
   ],
   "source": [
    "book_page_urls = []\n",
    "text_urls = []\n",
    "for list_item in soup.find_all(class_='booklink'):\n",
    "    book_page_urls.append(list_item.find('a').get('href'))\n",
    "\n",
    "for url in book_page_urls:\n",
    "    page = requests.get(root_dir + url).text\n",
    "    next_soup = BeautifulSoup(page, 'html.parser')\n",
    "    text_links = next_soup.find_all(\"a\")\n",
    "    for link in text_links:\n",
    "        try:\n",
    "            if link.get('href')[-3:] == \"txt\" or link.get('href')[-5:] == 'utf-8':\n",
    "                text_urls.append(link.get(\"href\"))\n",
    "        except:\n",
    "            pass"
   ]
  },
  {
   "cell_type": "code",
   "execution_count": 100,
   "metadata": {},
   "outputs": [
    {
     "name": "stdout",
     "output_type": "stream",
     "text": [
      "ï»¿The Project Gutenberg eBook of The Prince, by Nicolo Machiavelli\n",
      "\n",
      "This eBook is for the use of \n",
      "﻿The Project Gutenberg eBook of The Republic, by Plato\n",
      "\n",
      "This eBook is for the use of anyone anywhe\n",
      "﻿The Project Gutenberg eBook of Second Treatise of Government, by John Locke\n",
      "\n",
      "This eBook is for th\n",
      "﻿The Project Gutenberg EBook of Beyond Good and Evil, by Friedrich Nietzsche\n",
      "\n",
      "This eBook is for th\n",
      "ï»¿The Project Gutenberg eBook of Thus Spake Zarathustra, by Friedrich Nietzsche\n",
      "\n",
      "This eBook is fo\n",
      "﻿The Project Gutenberg EBook of The Communist Manifesto\n",
      "by Karl Marx and Friedrich Engels\n",
      "\n",
      "This e\n",
      "﻿Project Gutenberg's The Problems of Philosophy, by Bertrand Russell\n",
      "\n",
      "This eBook is for the use of\n",
      "﻿The Project Gutenberg EBook of On Liberty, by John Stuart Mill\n",
      "\n",
      "This eBook is for the use of anyo\n",
      "﻿The Project Gutenberg EBook of Democracy and Education, by John Dewey\n",
      "\n",
      "This eBook is for the use \n",
      "﻿The Project Gutenberg EBook of Poetics, by Aristotle\n",
      "\n",
      "This eBook is for the use of anyone anywher\n",
      "ï»¿The Project Gutenberg eBook of The Critique of Pure Reason, by Immanuel Kant\n",
      "\n",
      "This eBook is for\n",
      "ï»¿The Project Gutenberg EBook of Apology, by Plato\n",
      "\n",
      "This eBook is for the use of anyone anywhere \n",
      "﻿The Project Gutenberg EBook of The Ethics, by Benedict de Spinoza\n",
      "\n",
      "This eBook is for the use of a\n",
      "﻿The Project Gutenberg EBook of An Enquiry Concerning Human Understanding, by \n",
      "David Hume and L. A.\n",
      "﻿The Project Gutenberg EBook of A Discourse on Method, by René Descartes\n",
      "\n",
      "This eBook is for the us\n",
      "﻿The Project Gutenberg EBook of Euthyphro, by Plato\n",
      "\n",
      "This eBook is for the use of anyone anywhere \n",
      "﻿The Project Gutenberg EBook of The Antichrist, by F. W. Nietzsche\n",
      "\n",
      "This eBook is for the use of a\n",
      "ï»¿The Project Gutenberg eBook of The Nicomachean Ethics of Aristotle, by Aristotle\n",
      "\n",
      "This eBook is\n",
      "﻿The Project Gutenberg EBook of Utilitarianism, by John Stuart Mill\n",
      "\n",
      "This eBook is for the use of \n",
      "ï»¿The Project Gutenberg eBook of A Treatise of Human Nature, by David Hume\n",
      "\n",
      "This eBook is for the\n",
      "﻿The Project Gutenberg EBook of Theaetetus, by Plato\n",
      "\n",
      "This eBook is for the use of anyone anywhere\n",
      "﻿The Project Gutenberg eBook of Also Sprach Zarathustra, by Friedrich Wilhelm Nietzsche\n",
      "\n",
      "This eBoo\n",
      "﻿The Project Gutenberg EBook of An Enquiry Concerning the Principles of\n",
      "Morals, by David Hume\n",
      "\n",
      "Th\n",
      "﻿The Project Gutenberg EBook of The Analysis of Mind, by Bertrand Russell\n",
      "\n",
      "This eBook is for the u\n"
     ]
    }
   ],
   "source": [
    "for texts in text_urls:\n",
    "    book = requests.get(root_dir + texts).text\n",
    "    "
   ]
  },
  {
   "cell_type": "code",
   "execution_count": null,
   "metadata": {},
   "outputs": [],
   "source": []
  }
 ],
 "metadata": {
  "kernelspec": {
   "display_name": "generative_env",
   "language": "python",
   "name": "generative_env"
  },
  "language_info": {
   "codemirror_mode": {
    "name": "ipython",
    "version": 3
   },
   "file_extension": ".py",
   "mimetype": "text/x-python",
   "name": "python",
   "nbconvert_exporter": "python",
   "pygments_lexer": "ipython3",
   "version": "3.9.9"
  }
 },
 "nbformat": 4,
 "nbformat_minor": 4
}
