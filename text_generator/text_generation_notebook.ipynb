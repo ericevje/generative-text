{
  "cells": [
    {
      "cell_type": "code",
      "source": [
        "#For Colab Only\n",
        "from google.colab import drive\n",
        "drive.mount('/content/drive')\n",
        "\n",
        "# %cd /content/drive/MyDrive/Github/generative-text\n",
        "# !git pull"
      ],
      "metadata": {
        "colab": {
          "base_uri": "https://localhost:8080/"
        },
        "id": "Ku1xfNMRqQtt",
        "outputId": "55116c85-1121-421a-f717-e3241fe0d9bf"
      },
      "execution_count": 22,
      "outputs": [
        {
          "output_type": "stream",
          "name": "stdout",
          "text": [
            "Drive already mounted at /content/drive; to attempt to forcibly remount, call drive.mount(\"/content/drive\", force_remount=True).\n"
          ]
        }
      ]
    },
    {
      "cell_type": "code",
      "execution_count": 23,
      "metadata": {
        "id": "j_2jj7o1pA0O"
      },
      "outputs": [],
      "source": [
        "# import the necessary libraries\n",
        "import os \n",
        "os.environ['TF_CPP_MIN_LOG_LEVEL']='2' #Trying to reduce tensorflow warnings\n",
        "import re\n",
        "import math\n",
        "import string\n",
        "# import hw_utils # LOADS HW CODE (helps de-clutter this notebook)\n",
        "import time\n",
        "import json\n",
        "import random\n",
        "import numpy as np\n",
        "import pandas as pd\n",
        "import nltk\n",
        "import tensorflow as tf\n",
        "import matplotlib.pyplot as plt\n",
        "import matplotlib.cm as cm\n",
        "from pathlib import Path\n",
        "\n",
        "# useful structures and functions for experiments \n",
        "from time import sleep\n",
        "from collections import Counter\n",
        "from collections import defaultdict\n",
        "from glob import glob\n",
        "\n",
        "# specific machine learning functionality\n",
        "from nltk.tokenize import word_tokenize, sent_tokenize\n",
        "from nltk.corpus import stopwords \n",
        "from nltk.tokenize import RegexpTokenizer\n",
        "from tensorflow import keras\n",
        "from tensorflow.keras.models import Model, Sequential\n",
        "from tensorflow.keras.layers.experimental.preprocessing import TextVectorization\n",
        "from tensorflow.keras.utils import to_categorical\n",
        "from tensorflow.python.keras import backend as K\n",
        "from tensorflow.python.keras.utils.layer_utils import count_params\n",
        "from sklearn.model_selection import train_test_split\n",
        "from sklearn import manifold\n",
        "from sklearn.metrics.pairwise import cosine_similarity\n",
        "from sklearn.metrics import f1_score, confusion_matrix\n",
        "try:\n",
        "  from transformers import BertTokenizer, TFBertForSequenceClassification, BertConfig\n",
        "  from transformers import GPT2Tokenizer, TFGPT2LMHeadModel\n",
        "except:\n",
        "  print(\"transformers library not installed, installing through pip\")\n",
        "  !pip install transformers\n",
        "  from transformers import BertTokenizer, TFBertForSequenceClassification, BertConfig\n",
        "  from transformers import GPT2Tokenizer, TFGPT2LMHeadModel"
      ]
    },
    {
      "cell_type": "code",
      "execution_count": 24,
      "metadata": {
        "colab": {
          "base_uri": "https://localhost:8080/"
        },
        "id": "tNXZ_qD8pA0S",
        "outputId": "f5a3f60b-361f-4c24-cc86-4fc586a4f1e3"
      },
      "outputs": [
        {
          "output_type": "stream",
          "name": "stdout",
          "text": [
            "[nltk_data] Downloading package punkt to /root/nltk_data...\n",
            "[nltk_data]   Package punkt is already up-to-date!\n",
            "[nltk_data] Downloading package stopwords to /root/nltk_data...\n",
            "[nltk_data]   Package stopwords is already up-to-date!\n"
          ]
        },
        {
          "output_type": "execute_result",
          "data": {
            "text/plain": [
              "True"
            ]
          },
          "metadata": {},
          "execution_count": 24
        }
      ],
      "source": [
        "# download nltk's punkt sentence tokenizer\n",
        "nltk.download('punkt')\n",
        "# download nltk's stop words\n",
        "nltk.download('stopwords')"
      ]
    },
    {
      "cell_type": "code",
      "execution_count": 25,
      "metadata": {
        "colab": {
          "base_uri": "https://localhost:8080/"
        },
        "id": "2wWatuL6pA0T",
        "outputId": "d3b9b468-a01e-4d04-97b7-5b0cbbd4ce46"
      },
      "outputs": [
        {
          "output_type": "stream",
          "name": "stdout",
          "text": [
            "tensorflow version 2.7.0\n",
            "keras version 2.7.0\n",
            "Eager Execution Enabled: True\n",
            "INFO:tensorflow:Using MirroredStrategy with devices ('/job:localhost/replica:0/task:0/device:GPU:0',)\n",
            "Number of replicas: 1\n",
            "Devices: [PhysicalDevice(name='/physical_device:CPU:0', device_type='CPU'), PhysicalDevice(name='/physical_device:GPU:0', device_type='GPU')]\n",
            "[LogicalDevice(name='/device:GPU:0', device_type='GPU')]\n",
            "GPU Available:  [PhysicalDevice(name='/physical_device:GPU:0', device_type='GPU')]\n",
            "All Physical Devices [PhysicalDevice(name='/physical_device:CPU:0', device_type='CPU'), PhysicalDevice(name='/physical_device:GPU:0', device_type='GPU')]\n"
          ]
        }
      ],
      "source": [
        "# Enable/Disable Eager Execution\n",
        "# Reference: https://www.tensorflow.org/guide/eager\n",
        "# TensorFlow's eager execution is an imperative programming environment that evaluates operations immediately, \n",
        "# without building graphs\n",
        "\n",
        "#tf.compat.v1.disable_eager_execution()\n",
        "# tf.compat.v1.enable_eager_execution()\n",
        "\n",
        "print(\"tensorflow version\", tf.__version__)\n",
        "print(\"keras version\", tf.keras.__version__)\n",
        "print(\"Eager Execution Enabled:\", tf.executing_eagerly())\n",
        "\n",
        "# Get the number of replicas \n",
        "strategy = tf.distribute.MirroredStrategy()\n",
        "print(\"Number of replicas:\", strategy.num_replicas_in_sync)\n",
        "\n",
        "devices = tf.config.experimental.get_visible_devices()\n",
        "print(\"Devices:\", devices)\n",
        "print(tf.config.experimental.list_logical_devices('GPU'))\n",
        "\n",
        "print(\"GPU Available: \", tf.config.list_physical_devices('GPU'))\n",
        "print(\"All Physical Devices\", tf.config.list_physical_devices())\n",
        "\n",
        "# Better performance with the tf.data API\n",
        "# Reference: https://www.tensorflow.org/guide/data_performance\n",
        "AUTOTUNE = tf.data.experimental.AUTOTUNE"
      ]
    },
    {
      "cell_type": "code",
      "execution_count": 26,
      "metadata": {
        "id": "I_zrDQ5mpA0U"
      },
      "outputs": [],
      "source": [
        "# Load training texts and append\n",
        "p = Path('/content/drive/Othercomputers/macbook/generative-text/text_generator/data')\n",
        "aggregate = p / \"aggregate.txt\"\n",
        "training_files = list(p.glob('*.txt'))\n",
        "with open (aggregate, 'w') as a:\n",
        "    for file in training_files:\n",
        "        with open (file, 'r') as f:\n",
        "            a.write(f.read())\n"
      ]
    },
    {
      "cell_type": "code",
      "execution_count": 27,
      "metadata": {
        "colab": {
          "base_uri": "https://localhost:8080/",
          "height": 182,
          "referenced_widgets": [
            "0e47f77bfe6341c788ab5c1c52bd9549",
            "580ae5446bcb47b09ab5049bed19f991",
            "ae1b6c62d0354d5e8aaab7fca4e5031d",
            "821f9506797843039cf5619d4ff6bac3",
            "6a2a46fb2c3841a3ac28abe8389d8a5d",
            "1decf6d1364b4d08ab6dd0403bff004c",
            "d7a66f6b3f8f454583790348bca2e1c9",
            "dcae20ed110f4857839e9db32474283a",
            "909e26cde2ed431abb46319abd83a9e7",
            "2fc660cbc8584eddbba44f0456356f1c",
            "e65f5693867b43ae984009ded763a196",
            "d85746c6a15c427eaac1252b30af507b",
            "4896457e303a4149a2565cd14937e97d",
            "c3a84c1ef4894686949b7e505b43781a",
            "cba72032bc3a41ae9c59d34c1fdb20bd",
            "82563f27328144bebb104d00bdb8b6f9",
            "0e7ef177b3454a69b8eab75d0b24efd9",
            "e25612b0f2474dd881fd0f0c70107d8f",
            "26c0cb99de854022a352185372a75b5f",
            "b615c3acd8874baf91ba2fc8ae3e1a89",
            "f13dbc72642f44249b93b68c02cc823e",
            "fb2b63fe72114723a6e81e8701e55b68",
            "fbffe76931a1408b909249eef0e50481",
            "97aa8695ef9e4a5ea18bdd5c10d50b10",
            "5a8349120b474636ae1c156505e31915",
            "6543c68c6a6646e7844e442ac8ee6a19",
            "52e58e5f5a27408f83f2c54ef5a9702b",
            "f01e081589dc4599a96843bf30b9f3ef",
            "5463ccdd957b4e71ae1cc782df49bf86",
            "1e456e3775684025888f460c5fbc68a0",
            "3622fc20bab744638b8c0a19aa923caf",
            "90c79ae9f27442ed8ed96dbd0ef2536f",
            "5c53cb83e7c1426e839af861a19819f9",
            "0703ef9f70eb4f229208672274fafa84",
            "1b05b55e39334e97bc6800006a2674f4",
            "912c10cb9b6c4e37b32ed980608a8f73",
            "1e3562d73fd24dc69e5141377a6f5ee6",
            "a84edbc453894cf581ec73f58fb57b99",
            "05d437d4fa5241aea8cfc216f17320f0",
            "566349acf9aa484db13b790f3daddff6",
            "ce50dad06a59433ca771899334948de6",
            "2f51a40740144459b42f2d1789bed86f",
            "77cbbd4a628e4baeb65395dac44a5e03",
            "c405e1b77a3f496882e009a5c38f191d"
          ]
        },
        "id": "XJpA2BMipA0W",
        "outputId": "5329bfd3-2659-4ac2-b95e-24e6edca5e7d"
      },
      "outputs": [
        {
          "output_type": "display_data",
          "data": {
            "application/vnd.jupyter.widget-view+json": {
              "model_id": "0e47f77bfe6341c788ab5c1c52bd9549",
              "version_minor": 0,
              "version_major": 2
            },
            "text/plain": [
              "Downloading:   0%|          | 0.00/0.99M [00:00<?, ?B/s]"
            ]
          },
          "metadata": {}
        },
        {
          "output_type": "display_data",
          "data": {
            "application/vnd.jupyter.widget-view+json": {
              "model_id": "d85746c6a15c427eaac1252b30af507b",
              "version_minor": 0,
              "version_major": 2
            },
            "text/plain": [
              "Downloading:   0%|          | 0.00/446k [00:00<?, ?B/s]"
            ]
          },
          "metadata": {}
        },
        {
          "output_type": "display_data",
          "data": {
            "application/vnd.jupyter.widget-view+json": {
              "model_id": "fbffe76931a1408b909249eef0e50481",
              "version_minor": 0,
              "version_major": 2
            },
            "text/plain": [
              "Downloading:   0%|          | 0.00/1.29M [00:00<?, ?B/s]"
            ]
          },
          "metadata": {}
        },
        {
          "output_type": "display_data",
          "data": {
            "application/vnd.jupyter.widget-view+json": {
              "model_id": "0703ef9f70eb4f229208672274fafa84",
              "version_minor": 0,
              "version_major": 2
            },
            "text/plain": [
              "Downloading:   0%|          | 0.00/762 [00:00<?, ?B/s]"
            ]
          },
          "metadata": {}
        },
        {
          "output_type": "stream",
          "name": "stderr",
          "text": [
            "Token indices sequence length is longer than the specified maximum sequence length for this model (344074 > 1024). Running this sequence through the model will result in indexing errors\n"
          ]
        }
      ],
      "source": [
        "with open (aggregate, 'r') as file_contents:\n",
        "    training_data = re.sub(r'Page \\| \\d+ .*', '', file_contents.read()).replace('\\n', ' ')\n",
        "    # print(training_data)\n",
        "\n",
        "    # Load tokenizer\n",
        "    tokenizer = GPT2Tokenizer.from_pretrained(\"distilgpt2\")\n",
        "    training_data_encoded = tokenizer.encode(training_data)\n",
        "\n",
        "    # print(training_data_encoded)\n",
        "\n",
        "    training_chunks = []\n",
        "    block_size = 100\n",
        "    for i in range(0, len(training_data_encoded) - block_size + 1, block_size):\n",
        "        training_chunks.append(training_data_encoded[i:i + block_size])"
      ]
    },
    {
      "cell_type": "code",
      "execution_count": 28,
      "metadata": {
        "colab": {
          "base_uri": "https://localhost:8080/"
        },
        "id": "5_jLnNm7pA0W",
        "outputId": "62016639-2e78-4904-b8fc-f99689a7244d"
      },
      "outputs": [
        {
          "output_type": "stream",
          "name": "stdout",
          "text": [
            "inputs length: 3440\n",
            "labels length: 3440\n"
          ]
        }
      ],
      "source": [
        "inputs = []\n",
        "labels = []\n",
        "for ex in training_chunks:\n",
        "    inputs.append(ex[:-1])\n",
        "    labels.append(ex[1:])\n",
        "\n",
        "print(\"inputs length:\",len(inputs))\n",
        "print(\"labels length:\",len(labels))"
      ]
    },
    {
      "cell_type": "code",
      "execution_count": 29,
      "metadata": {
        "colab": {
          "base_uri": "https://localhost:8080/"
        },
        "id": "mqNSVXzZpA0X",
        "outputId": "0b4a433d-83c3-47c5-ada4-0982349cc379"
      },
      "outputs": [
        {
          "output_type": "stream",
          "name": "stdout",
          "text": [
            "train_data <PrefetchDataset shapes: ((12, 99), (12, 99)), types: (tf.int32, tf.int32)>\n"
          ]
        }
      ],
      "source": [
        "BATCH_SIZE = 12\n",
        "TRAIN_SHUFFLE_BUFFER_SIZE = len(inputs)\n",
        "\n",
        "# Create TF Dataset\n",
        "train_data = tf.data.Dataset.from_tensor_slices((inputs, labels))\n",
        "\n",
        "#############\n",
        "# Train data\n",
        "#############\n",
        "train_data = train_data.shuffle(buffer_size=TRAIN_SHUFFLE_BUFFER_SIZE)\n",
        "train_data = train_data.batch(BATCH_SIZE, drop_remainder=True)\n",
        "train_data = train_data.prefetch(buffer_size=AUTOTUNE)\n",
        "\n",
        "print(\"train_data\",train_data)"
      ]
    },
    {
      "cell_type": "code",
      "execution_count": 30,
      "metadata": {
        "colab": {
          "base_uri": "https://localhost:8080/",
          "height": 118,
          "referenced_widgets": [
            "dff94ca131f54734a32395786a19debd",
            "d16b2eb001b042ceb981d1dbf18bbfa1",
            "f2c4c38a74744249a7f043bdb904aa12",
            "9026ec740347491cb0d3551e55ff7a6c",
            "753e05ebcfc24d40912d9fbc2abf0360",
            "cb4f4aa820af49cca6cb96c8cf591840",
            "7b544d3a776a49de9db49db8a4c4605e",
            "872c88f008fb4d27918d85a4abb96c5a",
            "a337af8e4284440a836892ce5b850d2a",
            "d9c21bbd21a04ee1bbb189ba98f4259e",
            "54f8492fd48a4bec802ab60a4c932ee0"
          ]
        },
        "id": "FWOXfe7upA0X",
        "outputId": "0df0a2f2-0c9b-4ddd-8e31-0ea2bc4666bf"
      },
      "outputs": [
        {
          "output_type": "display_data",
          "data": {
            "application/vnd.jupyter.widget-view+json": {
              "model_id": "dff94ca131f54734a32395786a19debd",
              "version_minor": 0,
              "version_major": 2
            },
            "text/plain": [
              "Downloading:   0%|          | 0.00/313M [00:00<?, ?B/s]"
            ]
          },
          "metadata": {}
        },
        {
          "output_type": "stream",
          "name": "stderr",
          "text": [
            "All model checkpoint layers were used when initializing TFGPT2LMHeadModel.\n",
            "\n",
            "All the layers of TFGPT2LMHeadModel were initialized from the model checkpoint at distilgpt2.\n",
            "If your task is similar to the task the model of the checkpoint was trained on, you can already use TFGPT2LMHeadModel for predictions without further training.\n"
          ]
        }
      ],
      "source": [
        "model = TFGPT2LMHeadModel.from_pretrained(\"distilgpt2\")"
      ]
    },
    {
      "cell_type": "code",
      "execution_count": 31,
      "metadata": {
        "colab": {
          "base_uri": "https://localhost:8080/"
        },
        "id": "t_wAUN07pA0Y",
        "outputId": "751f6577-4480-4639-8637-164c832517c1"
      },
      "outputs": [
        {
          "output_type": "stream",
          "name": "stdout",
          "text": [
            "Epoch 1/30\n",
            "286/286 [==============================] - 86s 264ms/step - loss: 4.0406 - logits_loss: 4.0406 - logits_accuracy: 0.2740 - past_key_values_1_accuracy: 0.0014 - past_key_values_2_accuracy: 0.0014 - past_key_values_3_accuracy: 0.0029 - past_key_values_4_accuracy: 0.0019 - past_key_values_5_accuracy: 0.0011 - past_key_values_6_accuracy: 9.8866e-04\n",
            "Epoch 2/30\n",
            "286/286 [==============================] - 79s 276ms/step - loss: 3.7716 - logits_loss: 3.7716 - logits_accuracy: 0.2975 - past_key_values_1_accuracy: 0.0014 - past_key_values_2_accuracy: 0.0014 - past_key_values_3_accuracy: 0.0030 - past_key_values_4_accuracy: 0.0019 - past_key_values_5_accuracy: 0.0011 - past_key_values_6_accuracy: 9.9529e-04\n",
            "Epoch 3/30\n",
            "286/286 [==============================] - 81s 283ms/step - loss: 3.6234 - logits_loss: 3.6234 - logits_accuracy: 0.3133 - past_key_values_1_accuracy: 0.0014 - past_key_values_2_accuracy: 0.0014 - past_key_values_3_accuracy: 0.0031 - past_key_values_4_accuracy: 0.0018 - past_key_values_5_accuracy: 0.0010 - past_key_values_6_accuracy: 0.0010\n",
            "Epoch 4/30\n",
            "286/286 [==============================] - 81s 285ms/step - loss: 3.4987 - logits_loss: 3.4987 - logits_accuracy: 0.3264 - past_key_values_1_accuracy: 0.0014 - past_key_values_2_accuracy: 0.0013 - past_key_values_3_accuracy: 0.0030 - past_key_values_4_accuracy: 0.0019 - past_key_values_5_accuracy: 0.0011 - past_key_values_6_accuracy: 0.0010\n",
            "Epoch 5/30\n",
            "286/286 [==============================] - 81s 285ms/step - loss: 3.3841 - logits_loss: 3.3841 - logits_accuracy: 0.3398 - past_key_values_1_accuracy: 0.0014 - past_key_values_2_accuracy: 0.0013 - past_key_values_3_accuracy: 0.0031 - past_key_values_4_accuracy: 0.0018 - past_key_values_5_accuracy: 0.0010 - past_key_values_6_accuracy: 0.0010\n",
            "Epoch 6/30\n",
            "286/286 [==============================] - 81s 285ms/step - loss: 3.2769 - logits_loss: 3.2769 - logits_accuracy: 0.3514 - past_key_values_1_accuracy: 0.0014 - past_key_values_2_accuracy: 0.0013 - past_key_values_3_accuracy: 0.0029 - past_key_values_4_accuracy: 0.0017 - past_key_values_5_accuracy: 0.0010 - past_key_values_6_accuracy: 0.0011\n",
            "Epoch 7/30\n",
            "286/286 [==============================] - 81s 284ms/step - loss: 3.1711 - logits_loss: 3.1711 - logits_accuracy: 0.3645 - past_key_values_1_accuracy: 0.0014 - past_key_values_2_accuracy: 0.0013 - past_key_values_3_accuracy: 0.0031 - past_key_values_4_accuracy: 0.0018 - past_key_values_5_accuracy: 0.0010 - past_key_values_6_accuracy: 0.0010\n",
            "Epoch 8/30\n",
            "286/286 [==============================] - 81s 285ms/step - loss: 3.0727 - logits_loss: 3.0727 - logits_accuracy: 0.3756 - past_key_values_1_accuracy: 0.0014 - past_key_values_2_accuracy: 0.0013 - past_key_values_3_accuracy: 0.0031 - past_key_values_4_accuracy: 0.0017 - past_key_values_5_accuracy: 0.0010 - past_key_values_6_accuracy: 0.0011\n",
            "Epoch 9/30\n",
            "286/286 [==============================] - 81s 284ms/step - loss: 2.9727 - logits_loss: 2.9727 - logits_accuracy: 0.3882 - past_key_values_1_accuracy: 0.0014 - past_key_values_2_accuracy: 0.0014 - past_key_values_3_accuracy: 0.0030 - past_key_values_4_accuracy: 0.0017 - past_key_values_5_accuracy: 0.0010 - past_key_values_6_accuracy: 0.0011\n",
            "Epoch 10/30\n",
            "286/286 [==============================] - 81s 285ms/step - loss: 2.8744 - logits_loss: 2.8744 - logits_accuracy: 0.4011 - past_key_values_1_accuracy: 0.0014 - past_key_values_2_accuracy: 0.0013 - past_key_values_3_accuracy: 0.0030 - past_key_values_4_accuracy: 0.0017 - past_key_values_5_accuracy: 0.0010 - past_key_values_6_accuracy: 0.0011\n",
            "Epoch 11/30\n",
            "286/286 [==============================] - 81s 284ms/step - loss: 2.7804 - logits_loss: 2.7804 - logits_accuracy: 0.4129 - past_key_values_1_accuracy: 0.0015 - past_key_values_2_accuracy: 0.0014 - past_key_values_3_accuracy: 0.0030 - past_key_values_4_accuracy: 0.0017 - past_key_values_5_accuracy: 0.0010 - past_key_values_6_accuracy: 0.0010\n",
            "Epoch 12/30\n",
            "286/286 [==============================] - 81s 285ms/step - loss: 2.6873 - logits_loss: 2.6873 - logits_accuracy: 0.4250 - past_key_values_1_accuracy: 0.0014 - past_key_values_2_accuracy: 0.0014 - past_key_values_3_accuracy: 0.0031 - past_key_values_4_accuracy: 0.0017 - past_key_values_5_accuracy: 0.0010 - past_key_values_6_accuracy: 0.0011\n",
            "Epoch 13/30\n",
            "286/286 [==============================] - 81s 285ms/step - loss: 2.5972 - logits_loss: 2.5972 - logits_accuracy: 0.4370 - past_key_values_1_accuracy: 0.0014 - past_key_values_2_accuracy: 0.0014 - past_key_values_3_accuracy: 0.0031 - past_key_values_4_accuracy: 0.0017 - past_key_values_5_accuracy: 0.0010 - past_key_values_6_accuracy: 0.0011\n",
            "Epoch 14/30\n",
            "286/286 [==============================] - 81s 284ms/step - loss: 2.5078 - logits_loss: 2.5078 - logits_accuracy: 0.4497 - past_key_values_1_accuracy: 0.0015 - past_key_values_2_accuracy: 0.0014 - past_key_values_3_accuracy: 0.0030 - past_key_values_4_accuracy: 0.0017 - past_key_values_5_accuracy: 0.0010 - past_key_values_6_accuracy: 0.0011\n",
            "Epoch 15/30\n",
            "286/286 [==============================] - 81s 285ms/step - loss: 2.4204 - logits_loss: 2.4204 - logits_accuracy: 0.4632 - past_key_values_1_accuracy: 0.0014 - past_key_values_2_accuracy: 0.0014 - past_key_values_3_accuracy: 0.0031 - past_key_values_4_accuracy: 0.0017 - past_key_values_5_accuracy: 0.0011 - past_key_values_6_accuracy: 0.0011\n",
            "Epoch 16/30\n",
            "286/286 [==============================] - 81s 284ms/step - loss: 2.3355 - logits_loss: 2.3355 - logits_accuracy: 0.4757 - past_key_values_1_accuracy: 0.0014 - past_key_values_2_accuracy: 0.0014 - past_key_values_3_accuracy: 0.0032 - past_key_values_4_accuracy: 0.0016 - past_key_values_5_accuracy: 0.0010 - past_key_values_6_accuracy: 0.0011\n",
            "Epoch 17/30\n",
            "286/286 [==============================] - 81s 285ms/step - loss: 2.2540 - logits_loss: 2.2540 - logits_accuracy: 0.4884 - past_key_values_1_accuracy: 0.0014 - past_key_values_2_accuracy: 0.0014 - past_key_values_3_accuracy: 0.0031 - past_key_values_4_accuracy: 0.0016 - past_key_values_5_accuracy: 0.0011 - past_key_values_6_accuracy: 0.0011\n",
            "Epoch 18/30\n",
            "286/286 [==============================] - 81s 285ms/step - loss: 2.1751 - logits_loss: 2.1751 - logits_accuracy: 0.5011 - past_key_values_1_accuracy: 0.0015 - past_key_values_2_accuracy: 0.0014 - past_key_values_3_accuracy: 0.0032 - past_key_values_4_accuracy: 0.0016 - past_key_values_5_accuracy: 0.0011 - past_key_values_6_accuracy: 0.0011\n",
            "Epoch 19/30\n",
            "286/286 [==============================] - 81s 285ms/step - loss: 2.0968 - logits_loss: 2.0968 - logits_accuracy: 0.5139 - past_key_values_1_accuracy: 0.0015 - past_key_values_2_accuracy: 0.0014 - past_key_values_3_accuracy: 0.0030 - past_key_values_4_accuracy: 0.0016 - past_key_values_5_accuracy: 0.0011 - past_key_values_6_accuracy: 0.0011\n",
            "Epoch 20/30\n",
            "286/286 [==============================] - 81s 285ms/step - loss: 2.0211 - logits_loss: 2.0211 - logits_accuracy: 0.5264 - past_key_values_1_accuracy: 0.0015 - past_key_values_2_accuracy: 0.0014 - past_key_values_3_accuracy: 0.0032 - past_key_values_4_accuracy: 0.0016 - past_key_values_5_accuracy: 0.0011 - past_key_values_6_accuracy: 0.0011\n",
            "Epoch 21/30\n",
            "286/286 [==============================] - 81s 284ms/step - loss: 1.9461 - logits_loss: 1.9461 - logits_accuracy: 0.5393 - past_key_values_1_accuracy: 0.0015 - past_key_values_2_accuracy: 0.0014 - past_key_values_3_accuracy: 0.0031 - past_key_values_4_accuracy: 0.0016 - past_key_values_5_accuracy: 0.0011 - past_key_values_6_accuracy: 0.0011\n",
            "Epoch 22/30\n",
            "286/286 [==============================] - 81s 285ms/step - loss: 1.8753 - logits_loss: 1.8753 - logits_accuracy: 0.5515 - past_key_values_1_accuracy: 0.0014 - past_key_values_2_accuracy: 0.0014 - past_key_values_3_accuracy: 0.0030 - past_key_values_4_accuracy: 0.0016 - past_key_values_5_accuracy: 0.0011 - past_key_values_6_accuracy: 0.0011\n",
            "Epoch 23/30\n",
            "286/286 [==============================] - 81s 285ms/step - loss: 1.8074 - logits_loss: 1.8074 - logits_accuracy: 0.5646 - past_key_values_1_accuracy: 0.0014 - past_key_values_2_accuracy: 0.0014 - past_key_values_3_accuracy: 0.0032 - past_key_values_4_accuracy: 0.0016 - past_key_values_5_accuracy: 0.0011 - past_key_values_6_accuracy: 0.0011\n",
            "Epoch 24/30\n",
            "286/286 [==============================] - 81s 285ms/step - loss: 1.7395 - logits_loss: 1.7395 - logits_accuracy: 0.5774 - past_key_values_1_accuracy: 0.0015 - past_key_values_2_accuracy: 0.0014 - past_key_values_3_accuracy: 0.0031 - past_key_values_4_accuracy: 0.0016 - past_key_values_5_accuracy: 0.0011 - past_key_values_6_accuracy: 0.0011\n",
            "Epoch 25/30\n",
            "286/286 [==============================] - 81s 284ms/step - loss: 1.6789 - logits_loss: 1.6789 - logits_accuracy: 0.5897 - past_key_values_1_accuracy: 0.0014 - past_key_values_2_accuracy: 0.0014 - past_key_values_3_accuracy: 0.0031 - past_key_values_4_accuracy: 0.0016 - past_key_values_5_accuracy: 0.0011 - past_key_values_6_accuracy: 0.0011\n",
            "Epoch 26/30\n",
            "286/286 [==============================] - 81s 285ms/step - loss: 1.6154 - logits_loss: 1.6154 - logits_accuracy: 0.6003 - past_key_values_1_accuracy: 0.0015 - past_key_values_2_accuracy: 0.0015 - past_key_values_3_accuracy: 0.0032 - past_key_values_4_accuracy: 0.0016 - past_key_values_5_accuracy: 0.0011 - past_key_values_6_accuracy: 0.0011\n",
            "Epoch 27/30\n",
            "286/286 [==============================] - 81s 285ms/step - loss: 1.5553 - logits_loss: 1.5553 - logits_accuracy: 0.6121 - past_key_values_1_accuracy: 0.0015 - past_key_values_2_accuracy: 0.0014 - past_key_values_3_accuracy: 0.0031 - past_key_values_4_accuracy: 0.0015 - past_key_values_5_accuracy: 0.0011 - past_key_values_6_accuracy: 0.0011\n",
            "Epoch 28/30\n",
            "286/286 [==============================] - 81s 285ms/step - loss: 1.4982 - logits_loss: 1.4982 - logits_accuracy: 0.6237 - past_key_values_1_accuracy: 0.0014 - past_key_values_2_accuracy: 0.0015 - past_key_values_3_accuracy: 0.0031 - past_key_values_4_accuracy: 0.0015 - past_key_values_5_accuracy: 0.0011 - past_key_values_6_accuracy: 0.0011\n",
            "Epoch 29/30\n",
            "286/286 [==============================] - 81s 284ms/step - loss: 1.4423 - logits_loss: 1.4423 - logits_accuracy: 0.6359 - past_key_values_1_accuracy: 0.0015 - past_key_values_2_accuracy: 0.0015 - past_key_values_3_accuracy: 0.0032 - past_key_values_4_accuracy: 0.0015 - past_key_values_5_accuracy: 0.0011 - past_key_values_6_accuracy: 0.0011\n",
            "Epoch 30/30\n",
            "286/286 [==============================] - 81s 284ms/step - loss: 1.3894 - logits_loss: 1.3894 - logits_accuracy: 0.6479 - past_key_values_1_accuracy: 0.0014 - past_key_values_2_accuracy: 0.0014 - past_key_values_3_accuracy: 0.0031 - past_key_values_4_accuracy: 0.0016 - past_key_values_5_accuracy: 0.0011 - past_key_values_6_accuracy: 0.0011\n",
            "Training execution time (mins) 40.878454033533735\n"
          ]
        }
      ],
      "source": [
        "learning_rate = 3e-5 \n",
        "epsilon=1e-08\n",
        "clipnorm=1.0\n",
        "epochs = 30\n",
        "\n",
        "optimizer = keras.optimizers.Adam(learning_rate=learning_rate, epsilon=epsilon, clipnorm=clipnorm)\n",
        "# Loss\n",
        "loss = keras.losses.SparseCategoricalCrossentropy(from_logits=True)\n",
        "metric = keras.metrics.SparseCategoricalAccuracy('accuracy')\n",
        "\n",
        "# Compile\n",
        "model.compile(loss=[loss, *[None] * model.config.n_layer],\n",
        "                  optimizer=optimizer,\n",
        "                  metrics=[metric])\n",
        "\n",
        "# Train model\n",
        "start_time = time.time()\n",
        "training_results = model.fit(\n",
        "        train_data, # train_data.take(1000) for testing\n",
        "        epochs=epochs, \n",
        "        verbose=1)\n",
        "execution_time = (time.time() - start_time)/60.0\n",
        "print(\"Training execution time (mins)\",execution_time)"
      ]
    },
    {
      "cell_type": "code",
      "execution_count": 33,
      "metadata": {
        "id": "cg-khezRpA0Y",
        "colab": {
          "base_uri": "https://localhost:8080/"
        },
        "outputId": "d4a862e8-d405-47df-865d-ab460af5f7d8"
      },
      "outputs": [
        {
          "output_type": "stream",
          "name": "stderr",
          "text": [
            "WARNING:absl:Found untraced functions such as wte_layer_call_fn, wte_layer_call_and_return_conditional_losses, dropout_layer_call_fn, dropout_layer_call_and_return_conditional_losses, ln_f_layer_call_fn while saving (showing 5 of 375). These functions will not be directly callable after loading.\n"
          ]
        },
        {
          "output_type": "stream",
          "name": "stdout",
          "text": [
            "INFO:tensorflow:Assets written to: /content/drive/Othercomputers/macbook/generative-text/text_generator/data/20220213_070815/assets\n"
          ]
        },
        {
          "output_type": "stream",
          "name": "stderr",
          "text": [
            "INFO:tensorflow:Assets written to: /content/drive/Othercomputers/macbook/generative-text/text_generator/data/20220213_070815/assets\n"
          ]
        }
      ],
      "source": [
        "from datetime import datetime\n",
        "right_now = datetime.today().strftime(\"%Y%m%d_%H%M%S\")\n",
        "model_file = p / (right_now)\n",
        "model.save(model_file, save_format=\"tf\")"
      ]
    },
    {
      "cell_type": "code",
      "execution_count": 34,
      "metadata": {
        "id": "wkcUJM8tpA0Z",
        "colab": {
          "base_uri": "https://localhost:8080/",
          "height": 105
        },
        "outputId": "630d1d02-9284-40ad-f70a-d272a8d6cecd"
      },
      "outputs": [
        {
          "output_type": "stream",
          "name": "stderr",
          "text": [
            "Setting `pad_token_id` to 50256 (first `eos_token_id`) to generate sequence\n"
          ]
        },
        {
          "output_type": "stream",
          "name": "stdout",
          "text": [
            "input_ids tf.Tensor([[4342  356  389  757]], shape=(1, 4), dtype=int32)\n",
            "Generated text:\n"
          ]
        },
        {
          "output_type": "display_data",
          "data": {
            "application/vnd.google.colaboratory.intrinsic+json": {
              "type": "string"
            },
            "text/plain": [
              "'Here we are again at an age when Europe is awash in the imagination. It is no secret that such an age can become very sophistical, that such a plan actually cannot be realized, because one has heard too much about it and too little about the meaning of such a plan. What we must prevent, however, is the truly tragic, for this is precisely what'"
            ]
          },
          "metadata": {}
        }
      ],
      "source": [
        "# Your code here\n",
        "\n",
        "# Input text\n",
        "input_text = \"Here we are again\"\n",
        "\n",
        "# Tokenize Input\n",
        "input_ids = tokenizer.encode(input_text, return_tensors='tf')\n",
        "print(\"input_ids\",input_ids)\n",
        "\n",
        "# Generate outout\n",
        "outputs = model.generate(\n",
        "    input_ids, \n",
        "    do_sample=True,\n",
        "    max_length=75, \n",
        "    top_p=0.80, \n",
        "    top_k=0\n",
        ")\n",
        "\n",
        "print(\"Generated text:\")\n",
        "display(tokenizer.decode(outputs[0], skip_special_tokens=True))"
      ]
    },
    {
      "cell_type": "code",
      "execution_count": 37,
      "metadata": {
        "id": "I30BO8w0pA0Z",
        "colab": {
          "base_uri": "https://localhost:8080/"
        },
        "outputId": "68997b90-4dff-4e86-c451-dec3007d8783"
      },
      "outputs": [
        {
          "output_type": "stream",
          "name": "stdout",
          "text": [
            "/content/drive/MyDrive/Github/generative-text\n",
            "[main 8b2278a] Finished training model on Colab\n",
            " 1 file changed, 1 insertion(+)\n",
            " create mode 100644 text_generator/text_generation_notebook (1).ipynb\n",
            "fatal: could not read Username for 'https://github.com': No such device or address\n"
          ]
        }
      ],
      "source": [
        "%cd /content/drive/MyDrive/Github/generative-text/\n",
        "!git add .\n",
        "!git commit -a -m \"Finished training model on Colab\"\n",
        "!git push"
      ]
    },
    {
      "cell_type": "code",
      "execution_count": 36,
      "metadata": {
        "id": "NQhhQqVYpA0Z"
      },
      "outputs": [],
      "source": [
        "!git config --global user.email evje.eric@gmail.com\n",
        "!git config --global user.name ericevje\n"
      ]
    },
    {
      "cell_type": "code",
      "execution_count": null,
      "metadata": {
        "id": "gcxYndo9pA0a"
      },
      "outputs": [],
      "source": [
        ""
      ]
    }
  ],
  "metadata": {
    "accelerator": "GPU",
    "colab": {
      "name": "text_generation_notebook.ipynb",
      "provenance": []
    },
    "kernelspec": {
      "display_name": "generative_env",
      "language": "python",
      "name": "generative_env"
    },
    "language_info": {
      "codemirror_mode": {
        "name": "ipython",
        "version": 3
      },
      "file_extension": ".py",
      "mimetype": "text/x-python",
      "name": "python",
      "nbconvert_exporter": "python",
      "pygments_lexer": "ipython3",
      "version": "3.9.9"
    },
    "widgets": {
      "application/vnd.jupyter.widget-state+json": {
        "0e47f77bfe6341c788ab5c1c52bd9549": {
          "model_module": "@jupyter-widgets/controls",
          "model_name": "HBoxModel",
          "model_module_version": "1.5.0",
          "state": {
            "_view_name": "HBoxView",
            "_dom_classes": [],
            "_model_name": "HBoxModel",
            "_view_module": "@jupyter-widgets/controls",
            "_model_module_version": "1.5.0",
            "_view_count": null,
            "_view_module_version": "1.5.0",
            "box_style": "",
            "layout": "IPY_MODEL_580ae5446bcb47b09ab5049bed19f991",
            "_model_module": "@jupyter-widgets/controls",
            "children": [
              "IPY_MODEL_ae1b6c62d0354d5e8aaab7fca4e5031d",
              "IPY_MODEL_821f9506797843039cf5619d4ff6bac3",
              "IPY_MODEL_6a2a46fb2c3841a3ac28abe8389d8a5d"
            ]
          }
        },
        "580ae5446bcb47b09ab5049bed19f991": {
          "model_module": "@jupyter-widgets/base",
          "model_name": "LayoutModel",
          "model_module_version": "1.2.0",
          "state": {
            "_view_name": "LayoutView",
            "grid_template_rows": null,
            "right": null,
            "justify_content": null,
            "_view_module": "@jupyter-widgets/base",
            "overflow": null,
            "_model_module_version": "1.2.0",
            "_view_count": null,
            "flex_flow": null,
            "width": null,
            "min_width": null,
            "border": null,
            "align_items": null,
            "bottom": null,
            "_model_module": "@jupyter-widgets/base",
            "top": null,
            "grid_column": null,
            "overflow_y": null,
            "overflow_x": null,
            "grid_auto_flow": null,
            "grid_area": null,
            "grid_template_columns": null,
            "flex": null,
            "_model_name": "LayoutModel",
            "justify_items": null,
            "grid_row": null,
            "max_height": null,
            "align_content": null,
            "visibility": null,
            "align_self": null,
            "height": null,
            "min_height": null,
            "padding": null,
            "grid_auto_rows": null,
            "grid_gap": null,
            "max_width": null,
            "order": null,
            "_view_module_version": "1.2.0",
            "grid_template_areas": null,
            "object_position": null,
            "object_fit": null,
            "grid_auto_columns": null,
            "margin": null,
            "display": null,
            "left": null
          }
        },
        "ae1b6c62d0354d5e8aaab7fca4e5031d": {
          "model_module": "@jupyter-widgets/controls",
          "model_name": "HTMLModel",
          "model_module_version": "1.5.0",
          "state": {
            "_view_name": "HTMLView",
            "style": "IPY_MODEL_1decf6d1364b4d08ab6dd0403bff004c",
            "_dom_classes": [],
            "description": "",
            "_model_name": "HTMLModel",
            "placeholder": "​",
            "_view_module": "@jupyter-widgets/controls",
            "_model_module_version": "1.5.0",
            "value": "Downloading: 100%",
            "_view_count": null,
            "_view_module_version": "1.5.0",
            "description_tooltip": null,
            "_model_module": "@jupyter-widgets/controls",
            "layout": "IPY_MODEL_d7a66f6b3f8f454583790348bca2e1c9"
          }
        },
        "821f9506797843039cf5619d4ff6bac3": {
          "model_module": "@jupyter-widgets/controls",
          "model_name": "FloatProgressModel",
          "model_module_version": "1.5.0",
          "state": {
            "_view_name": "ProgressView",
            "style": "IPY_MODEL_dcae20ed110f4857839e9db32474283a",
            "_dom_classes": [],
            "description": "",
            "_model_name": "FloatProgressModel",
            "bar_style": "success",
            "max": 1042301,
            "_view_module": "@jupyter-widgets/controls",
            "_model_module_version": "1.5.0",
            "value": 1042301,
            "_view_count": null,
            "_view_module_version": "1.5.0",
            "orientation": "horizontal",
            "min": 0,
            "description_tooltip": null,
            "_model_module": "@jupyter-widgets/controls",
            "layout": "IPY_MODEL_909e26cde2ed431abb46319abd83a9e7"
          }
        },
        "6a2a46fb2c3841a3ac28abe8389d8a5d": {
          "model_module": "@jupyter-widgets/controls",
          "model_name": "HTMLModel",
          "model_module_version": "1.5.0",
          "state": {
            "_view_name": "HTMLView",
            "style": "IPY_MODEL_2fc660cbc8584eddbba44f0456356f1c",
            "_dom_classes": [],
            "description": "",
            "_model_name": "HTMLModel",
            "placeholder": "​",
            "_view_module": "@jupyter-widgets/controls",
            "_model_module_version": "1.5.0",
            "value": " 0.99M/0.99M [00:00&lt;00:00, 13.1MB/s]",
            "_view_count": null,
            "_view_module_version": "1.5.0",
            "description_tooltip": null,
            "_model_module": "@jupyter-widgets/controls",
            "layout": "IPY_MODEL_e65f5693867b43ae984009ded763a196"
          }
        },
        "1decf6d1364b4d08ab6dd0403bff004c": {
          "model_module": "@jupyter-widgets/controls",
          "model_name": "DescriptionStyleModel",
          "model_module_version": "1.5.0",
          "state": {
            "_view_name": "StyleView",
            "_model_name": "DescriptionStyleModel",
            "description_width": "",
            "_view_module": "@jupyter-widgets/base",
            "_model_module_version": "1.5.0",
            "_view_count": null,
            "_view_module_version": "1.2.0",
            "_model_module": "@jupyter-widgets/controls"
          }
        },
        "d7a66f6b3f8f454583790348bca2e1c9": {
          "model_module": "@jupyter-widgets/base",
          "model_name": "LayoutModel",
          "model_module_version": "1.2.0",
          "state": {
            "_view_name": "LayoutView",
            "grid_template_rows": null,
            "right": null,
            "justify_content": null,
            "_view_module": "@jupyter-widgets/base",
            "overflow": null,
            "_model_module_version": "1.2.0",
            "_view_count": null,
            "flex_flow": null,
            "width": null,
            "min_width": null,
            "border": null,
            "align_items": null,
            "bottom": null,
            "_model_module": "@jupyter-widgets/base",
            "top": null,
            "grid_column": null,
            "overflow_y": null,
            "overflow_x": null,
            "grid_auto_flow": null,
            "grid_area": null,
            "grid_template_columns": null,
            "flex": null,
            "_model_name": "LayoutModel",
            "justify_items": null,
            "grid_row": null,
            "max_height": null,
            "align_content": null,
            "visibility": null,
            "align_self": null,
            "height": null,
            "min_height": null,
            "padding": null,
            "grid_auto_rows": null,
            "grid_gap": null,
            "max_width": null,
            "order": null,
            "_view_module_version": "1.2.0",
            "grid_template_areas": null,
            "object_position": null,
            "object_fit": null,
            "grid_auto_columns": null,
            "margin": null,
            "display": null,
            "left": null
          }
        },
        "dcae20ed110f4857839e9db32474283a": {
          "model_module": "@jupyter-widgets/controls",
          "model_name": "ProgressStyleModel",
          "model_module_version": "1.5.0",
          "state": {
            "_view_name": "StyleView",
            "_model_name": "ProgressStyleModel",
            "description_width": "",
            "_view_module": "@jupyter-widgets/base",
            "_model_module_version": "1.5.0",
            "_view_count": null,
            "_view_module_version": "1.2.0",
            "bar_color": null,
            "_model_module": "@jupyter-widgets/controls"
          }
        },
        "909e26cde2ed431abb46319abd83a9e7": {
          "model_module": "@jupyter-widgets/base",
          "model_name": "LayoutModel",
          "model_module_version": "1.2.0",
          "state": {
            "_view_name": "LayoutView",
            "grid_template_rows": null,
            "right": null,
            "justify_content": null,
            "_view_module": "@jupyter-widgets/base",
            "overflow": null,
            "_model_module_version": "1.2.0",
            "_view_count": null,
            "flex_flow": null,
            "width": null,
            "min_width": null,
            "border": null,
            "align_items": null,
            "bottom": null,
            "_model_module": "@jupyter-widgets/base",
            "top": null,
            "grid_column": null,
            "overflow_y": null,
            "overflow_x": null,
            "grid_auto_flow": null,
            "grid_area": null,
            "grid_template_columns": null,
            "flex": null,
            "_model_name": "LayoutModel",
            "justify_items": null,
            "grid_row": null,
            "max_height": null,
            "align_content": null,
            "visibility": null,
            "align_self": null,
            "height": null,
            "min_height": null,
            "padding": null,
            "grid_auto_rows": null,
            "grid_gap": null,
            "max_width": null,
            "order": null,
            "_view_module_version": "1.2.0",
            "grid_template_areas": null,
            "object_position": null,
            "object_fit": null,
            "grid_auto_columns": null,
            "margin": null,
            "display": null,
            "left": null
          }
        },
        "2fc660cbc8584eddbba44f0456356f1c": {
          "model_module": "@jupyter-widgets/controls",
          "model_name": "DescriptionStyleModel",
          "model_module_version": "1.5.0",
          "state": {
            "_view_name": "StyleView",
            "_model_name": "DescriptionStyleModel",
            "description_width": "",
            "_view_module": "@jupyter-widgets/base",
            "_model_module_version": "1.5.0",
            "_view_count": null,
            "_view_module_version": "1.2.0",
            "_model_module": "@jupyter-widgets/controls"
          }
        },
        "e65f5693867b43ae984009ded763a196": {
          "model_module": "@jupyter-widgets/base",
          "model_name": "LayoutModel",
          "model_module_version": "1.2.0",
          "state": {
            "_view_name": "LayoutView",
            "grid_template_rows": null,
            "right": null,
            "justify_content": null,
            "_view_module": "@jupyter-widgets/base",
            "overflow": null,
            "_model_module_version": "1.2.0",
            "_view_count": null,
            "flex_flow": null,
            "width": null,
            "min_width": null,
            "border": null,
            "align_items": null,
            "bottom": null,
            "_model_module": "@jupyter-widgets/base",
            "top": null,
            "grid_column": null,
            "overflow_y": null,
            "overflow_x": null,
            "grid_auto_flow": null,
            "grid_area": null,
            "grid_template_columns": null,
            "flex": null,
            "_model_name": "LayoutModel",
            "justify_items": null,
            "grid_row": null,
            "max_height": null,
            "align_content": null,
            "visibility": null,
            "align_self": null,
            "height": null,
            "min_height": null,
            "padding": null,
            "grid_auto_rows": null,
            "grid_gap": null,
            "max_width": null,
            "order": null,
            "_view_module_version": "1.2.0",
            "grid_template_areas": null,
            "object_position": null,
            "object_fit": null,
            "grid_auto_columns": null,
            "margin": null,
            "display": null,
            "left": null
          }
        },
        "d85746c6a15c427eaac1252b30af507b": {
          "model_module": "@jupyter-widgets/controls",
          "model_name": "HBoxModel",
          "model_module_version": "1.5.0",
          "state": {
            "_view_name": "HBoxView",
            "_dom_classes": [],
            "_model_name": "HBoxModel",
            "_view_module": "@jupyter-widgets/controls",
            "_model_module_version": "1.5.0",
            "_view_count": null,
            "_view_module_version": "1.5.0",
            "box_style": "",
            "layout": "IPY_MODEL_4896457e303a4149a2565cd14937e97d",
            "_model_module": "@jupyter-widgets/controls",
            "children": [
              "IPY_MODEL_c3a84c1ef4894686949b7e505b43781a",
              "IPY_MODEL_cba72032bc3a41ae9c59d34c1fdb20bd",
              "IPY_MODEL_82563f27328144bebb104d00bdb8b6f9"
            ]
          }
        },
        "4896457e303a4149a2565cd14937e97d": {
          "model_module": "@jupyter-widgets/base",
          "model_name": "LayoutModel",
          "model_module_version": "1.2.0",
          "state": {
            "_view_name": "LayoutView",
            "grid_template_rows": null,
            "right": null,
            "justify_content": null,
            "_view_module": "@jupyter-widgets/base",
            "overflow": null,
            "_model_module_version": "1.2.0",
            "_view_count": null,
            "flex_flow": null,
            "width": null,
            "min_width": null,
            "border": null,
            "align_items": null,
            "bottom": null,
            "_model_module": "@jupyter-widgets/base",
            "top": null,
            "grid_column": null,
            "overflow_y": null,
            "overflow_x": null,
            "grid_auto_flow": null,
            "grid_area": null,
            "grid_template_columns": null,
            "flex": null,
            "_model_name": "LayoutModel",
            "justify_items": null,
            "grid_row": null,
            "max_height": null,
            "align_content": null,
            "visibility": null,
            "align_self": null,
            "height": null,
            "min_height": null,
            "padding": null,
            "grid_auto_rows": null,
            "grid_gap": null,
            "max_width": null,
            "order": null,
            "_view_module_version": "1.2.0",
            "grid_template_areas": null,
            "object_position": null,
            "object_fit": null,
            "grid_auto_columns": null,
            "margin": null,
            "display": null,
            "left": null
          }
        },
        "c3a84c1ef4894686949b7e505b43781a": {
          "model_module": "@jupyter-widgets/controls",
          "model_name": "HTMLModel",
          "model_module_version": "1.5.0",
          "state": {
            "_view_name": "HTMLView",
            "style": "IPY_MODEL_0e7ef177b3454a69b8eab75d0b24efd9",
            "_dom_classes": [],
            "description": "",
            "_model_name": "HTMLModel",
            "placeholder": "​",
            "_view_module": "@jupyter-widgets/controls",
            "_model_module_version": "1.5.0",
            "value": "Downloading: 100%",
            "_view_count": null,
            "_view_module_version": "1.5.0",
            "description_tooltip": null,
            "_model_module": "@jupyter-widgets/controls",
            "layout": "IPY_MODEL_e25612b0f2474dd881fd0f0c70107d8f"
          }
        },
        "cba72032bc3a41ae9c59d34c1fdb20bd": {
          "model_module": "@jupyter-widgets/controls",
          "model_name": "FloatProgressModel",
          "model_module_version": "1.5.0",
          "state": {
            "_view_name": "ProgressView",
            "style": "IPY_MODEL_26c0cb99de854022a352185372a75b5f",
            "_dom_classes": [],
            "description": "",
            "_model_name": "FloatProgressModel",
            "bar_style": "success",
            "max": 456318,
            "_view_module": "@jupyter-widgets/controls",
            "_model_module_version": "1.5.0",
            "value": 456318,
            "_view_count": null,
            "_view_module_version": "1.5.0",
            "orientation": "horizontal",
            "min": 0,
            "description_tooltip": null,
            "_model_module": "@jupyter-widgets/controls",
            "layout": "IPY_MODEL_b615c3acd8874baf91ba2fc8ae3e1a89"
          }
        },
        "82563f27328144bebb104d00bdb8b6f9": {
          "model_module": "@jupyter-widgets/controls",
          "model_name": "HTMLModel",
          "model_module_version": "1.5.0",
          "state": {
            "_view_name": "HTMLView",
            "style": "IPY_MODEL_f13dbc72642f44249b93b68c02cc823e",
            "_dom_classes": [],
            "description": "",
            "_model_name": "HTMLModel",
            "placeholder": "​",
            "_view_module": "@jupyter-widgets/controls",
            "_model_module_version": "1.5.0",
            "value": " 446k/446k [00:00&lt;00:00, 8.76MB/s]",
            "_view_count": null,
            "_view_module_version": "1.5.0",
            "description_tooltip": null,
            "_model_module": "@jupyter-widgets/controls",
            "layout": "IPY_MODEL_fb2b63fe72114723a6e81e8701e55b68"
          }
        },
        "0e7ef177b3454a69b8eab75d0b24efd9": {
          "model_module": "@jupyter-widgets/controls",
          "model_name": "DescriptionStyleModel",
          "model_module_version": "1.5.0",
          "state": {
            "_view_name": "StyleView",
            "_model_name": "DescriptionStyleModel",
            "description_width": "",
            "_view_module": "@jupyter-widgets/base",
            "_model_module_version": "1.5.0",
            "_view_count": null,
            "_view_module_version": "1.2.0",
            "_model_module": "@jupyter-widgets/controls"
          }
        },
        "e25612b0f2474dd881fd0f0c70107d8f": {
          "model_module": "@jupyter-widgets/base",
          "model_name": "LayoutModel",
          "model_module_version": "1.2.0",
          "state": {
            "_view_name": "LayoutView",
            "grid_template_rows": null,
            "right": null,
            "justify_content": null,
            "_view_module": "@jupyter-widgets/base",
            "overflow": null,
            "_model_module_version": "1.2.0",
            "_view_count": null,
            "flex_flow": null,
            "width": null,
            "min_width": null,
            "border": null,
            "align_items": null,
            "bottom": null,
            "_model_module": "@jupyter-widgets/base",
            "top": null,
            "grid_column": null,
            "overflow_y": null,
            "overflow_x": null,
            "grid_auto_flow": null,
            "grid_area": null,
            "grid_template_columns": null,
            "flex": null,
            "_model_name": "LayoutModel",
            "justify_items": null,
            "grid_row": null,
            "max_height": null,
            "align_content": null,
            "visibility": null,
            "align_self": null,
            "height": null,
            "min_height": null,
            "padding": null,
            "grid_auto_rows": null,
            "grid_gap": null,
            "max_width": null,
            "order": null,
            "_view_module_version": "1.2.0",
            "grid_template_areas": null,
            "object_position": null,
            "object_fit": null,
            "grid_auto_columns": null,
            "margin": null,
            "display": null,
            "left": null
          }
        },
        "26c0cb99de854022a352185372a75b5f": {
          "model_module": "@jupyter-widgets/controls",
          "model_name": "ProgressStyleModel",
          "model_module_version": "1.5.0",
          "state": {
            "_view_name": "StyleView",
            "_model_name": "ProgressStyleModel",
            "description_width": "",
            "_view_module": "@jupyter-widgets/base",
            "_model_module_version": "1.5.0",
            "_view_count": null,
            "_view_module_version": "1.2.0",
            "bar_color": null,
            "_model_module": "@jupyter-widgets/controls"
          }
        },
        "b615c3acd8874baf91ba2fc8ae3e1a89": {
          "model_module": "@jupyter-widgets/base",
          "model_name": "LayoutModel",
          "model_module_version": "1.2.0",
          "state": {
            "_view_name": "LayoutView",
            "grid_template_rows": null,
            "right": null,
            "justify_content": null,
            "_view_module": "@jupyter-widgets/base",
            "overflow": null,
            "_model_module_version": "1.2.0",
            "_view_count": null,
            "flex_flow": null,
            "width": null,
            "min_width": null,
            "border": null,
            "align_items": null,
            "bottom": null,
            "_model_module": "@jupyter-widgets/base",
            "top": null,
            "grid_column": null,
            "overflow_y": null,
            "overflow_x": null,
            "grid_auto_flow": null,
            "grid_area": null,
            "grid_template_columns": null,
            "flex": null,
            "_model_name": "LayoutModel",
            "justify_items": null,
            "grid_row": null,
            "max_height": null,
            "align_content": null,
            "visibility": null,
            "align_self": null,
            "height": null,
            "min_height": null,
            "padding": null,
            "grid_auto_rows": null,
            "grid_gap": null,
            "max_width": null,
            "order": null,
            "_view_module_version": "1.2.0",
            "grid_template_areas": null,
            "object_position": null,
            "object_fit": null,
            "grid_auto_columns": null,
            "margin": null,
            "display": null,
            "left": null
          }
        },
        "f13dbc72642f44249b93b68c02cc823e": {
          "model_module": "@jupyter-widgets/controls",
          "model_name": "DescriptionStyleModel",
          "model_module_version": "1.5.0",
          "state": {
            "_view_name": "StyleView",
            "_model_name": "DescriptionStyleModel",
            "description_width": "",
            "_view_module": "@jupyter-widgets/base",
            "_model_module_version": "1.5.0",
            "_view_count": null,
            "_view_module_version": "1.2.0",
            "_model_module": "@jupyter-widgets/controls"
          }
        },
        "fb2b63fe72114723a6e81e8701e55b68": {
          "model_module": "@jupyter-widgets/base",
          "model_name": "LayoutModel",
          "model_module_version": "1.2.0",
          "state": {
            "_view_name": "LayoutView",
            "grid_template_rows": null,
            "right": null,
            "justify_content": null,
            "_view_module": "@jupyter-widgets/base",
            "overflow": null,
            "_model_module_version": "1.2.0",
            "_view_count": null,
            "flex_flow": null,
            "width": null,
            "min_width": null,
            "border": null,
            "align_items": null,
            "bottom": null,
            "_model_module": "@jupyter-widgets/base",
            "top": null,
            "grid_column": null,
            "overflow_y": null,
            "overflow_x": null,
            "grid_auto_flow": null,
            "grid_area": null,
            "grid_template_columns": null,
            "flex": null,
            "_model_name": "LayoutModel",
            "justify_items": null,
            "grid_row": null,
            "max_height": null,
            "align_content": null,
            "visibility": null,
            "align_self": null,
            "height": null,
            "min_height": null,
            "padding": null,
            "grid_auto_rows": null,
            "grid_gap": null,
            "max_width": null,
            "order": null,
            "_view_module_version": "1.2.0",
            "grid_template_areas": null,
            "object_position": null,
            "object_fit": null,
            "grid_auto_columns": null,
            "margin": null,
            "display": null,
            "left": null
          }
        },
        "fbffe76931a1408b909249eef0e50481": {
          "model_module": "@jupyter-widgets/controls",
          "model_name": "HBoxModel",
          "model_module_version": "1.5.0",
          "state": {
            "_view_name": "HBoxView",
            "_dom_classes": [],
            "_model_name": "HBoxModel",
            "_view_module": "@jupyter-widgets/controls",
            "_model_module_version": "1.5.0",
            "_view_count": null,
            "_view_module_version": "1.5.0",
            "box_style": "",
            "layout": "IPY_MODEL_97aa8695ef9e4a5ea18bdd5c10d50b10",
            "_model_module": "@jupyter-widgets/controls",
            "children": [
              "IPY_MODEL_5a8349120b474636ae1c156505e31915",
              "IPY_MODEL_6543c68c6a6646e7844e442ac8ee6a19",
              "IPY_MODEL_52e58e5f5a27408f83f2c54ef5a9702b"
            ]
          }
        },
        "97aa8695ef9e4a5ea18bdd5c10d50b10": {
          "model_module": "@jupyter-widgets/base",
          "model_name": "LayoutModel",
          "model_module_version": "1.2.0",
          "state": {
            "_view_name": "LayoutView",
            "grid_template_rows": null,
            "right": null,
            "justify_content": null,
            "_view_module": "@jupyter-widgets/base",
            "overflow": null,
            "_model_module_version": "1.2.0",
            "_view_count": null,
            "flex_flow": null,
            "width": null,
            "min_width": null,
            "border": null,
            "align_items": null,
            "bottom": null,
            "_model_module": "@jupyter-widgets/base",
            "top": null,
            "grid_column": null,
            "overflow_y": null,
            "overflow_x": null,
            "grid_auto_flow": null,
            "grid_area": null,
            "grid_template_columns": null,
            "flex": null,
            "_model_name": "LayoutModel",
            "justify_items": null,
            "grid_row": null,
            "max_height": null,
            "align_content": null,
            "visibility": null,
            "align_self": null,
            "height": null,
            "min_height": null,
            "padding": null,
            "grid_auto_rows": null,
            "grid_gap": null,
            "max_width": null,
            "order": null,
            "_view_module_version": "1.2.0",
            "grid_template_areas": null,
            "object_position": null,
            "object_fit": null,
            "grid_auto_columns": null,
            "margin": null,
            "display": null,
            "left": null
          }
        },
        "5a8349120b474636ae1c156505e31915": {
          "model_module": "@jupyter-widgets/controls",
          "model_name": "HTMLModel",
          "model_module_version": "1.5.0",
          "state": {
            "_view_name": "HTMLView",
            "style": "IPY_MODEL_f01e081589dc4599a96843bf30b9f3ef",
            "_dom_classes": [],
            "description": "",
            "_model_name": "HTMLModel",
            "placeholder": "​",
            "_view_module": "@jupyter-widgets/controls",
            "_model_module_version": "1.5.0",
            "value": "Downloading: 100%",
            "_view_count": null,
            "_view_module_version": "1.5.0",
            "description_tooltip": null,
            "_model_module": "@jupyter-widgets/controls",
            "layout": "IPY_MODEL_5463ccdd957b4e71ae1cc782df49bf86"
          }
        },
        "6543c68c6a6646e7844e442ac8ee6a19": {
          "model_module": "@jupyter-widgets/controls",
          "model_name": "FloatProgressModel",
          "model_module_version": "1.5.0",
          "state": {
            "_view_name": "ProgressView",
            "style": "IPY_MODEL_1e456e3775684025888f460c5fbc68a0",
            "_dom_classes": [],
            "description": "",
            "_model_name": "FloatProgressModel",
            "bar_style": "success",
            "max": 1355256,
            "_view_module": "@jupyter-widgets/controls",
            "_model_module_version": "1.5.0",
            "value": 1355256,
            "_view_count": null,
            "_view_module_version": "1.5.0",
            "orientation": "horizontal",
            "min": 0,
            "description_tooltip": null,
            "_model_module": "@jupyter-widgets/controls",
            "layout": "IPY_MODEL_3622fc20bab744638b8c0a19aa923caf"
          }
        },
        "52e58e5f5a27408f83f2c54ef5a9702b": {
          "model_module": "@jupyter-widgets/controls",
          "model_name": "HTMLModel",
          "model_module_version": "1.5.0",
          "state": {
            "_view_name": "HTMLView",
            "style": "IPY_MODEL_90c79ae9f27442ed8ed96dbd0ef2536f",
            "_dom_classes": [],
            "description": "",
            "_model_name": "HTMLModel",
            "placeholder": "​",
            "_view_module": "@jupyter-widgets/controls",
            "_model_module_version": "1.5.0",
            "value": " 1.29M/1.29M [00:00&lt;00:00, 17.7MB/s]",
            "_view_count": null,
            "_view_module_version": "1.5.0",
            "description_tooltip": null,
            "_model_module": "@jupyter-widgets/controls",
            "layout": "IPY_MODEL_5c53cb83e7c1426e839af861a19819f9"
          }
        },
        "f01e081589dc4599a96843bf30b9f3ef": {
          "model_module": "@jupyter-widgets/controls",
          "model_name": "DescriptionStyleModel",
          "model_module_version": "1.5.0",
          "state": {
            "_view_name": "StyleView",
            "_model_name": "DescriptionStyleModel",
            "description_width": "",
            "_view_module": "@jupyter-widgets/base",
            "_model_module_version": "1.5.0",
            "_view_count": null,
            "_view_module_version": "1.2.0",
            "_model_module": "@jupyter-widgets/controls"
          }
        },
        "5463ccdd957b4e71ae1cc782df49bf86": {
          "model_module": "@jupyter-widgets/base",
          "model_name": "LayoutModel",
          "model_module_version": "1.2.0",
          "state": {
            "_view_name": "LayoutView",
            "grid_template_rows": null,
            "right": null,
            "justify_content": null,
            "_view_module": "@jupyter-widgets/base",
            "overflow": null,
            "_model_module_version": "1.2.0",
            "_view_count": null,
            "flex_flow": null,
            "width": null,
            "min_width": null,
            "border": null,
            "align_items": null,
            "bottom": null,
            "_model_module": "@jupyter-widgets/base",
            "top": null,
            "grid_column": null,
            "overflow_y": null,
            "overflow_x": null,
            "grid_auto_flow": null,
            "grid_area": null,
            "grid_template_columns": null,
            "flex": null,
            "_model_name": "LayoutModel",
            "justify_items": null,
            "grid_row": null,
            "max_height": null,
            "align_content": null,
            "visibility": null,
            "align_self": null,
            "height": null,
            "min_height": null,
            "padding": null,
            "grid_auto_rows": null,
            "grid_gap": null,
            "max_width": null,
            "order": null,
            "_view_module_version": "1.2.0",
            "grid_template_areas": null,
            "object_position": null,
            "object_fit": null,
            "grid_auto_columns": null,
            "margin": null,
            "display": null,
            "left": null
          }
        },
        "1e456e3775684025888f460c5fbc68a0": {
          "model_module": "@jupyter-widgets/controls",
          "model_name": "ProgressStyleModel",
          "model_module_version": "1.5.0",
          "state": {
            "_view_name": "StyleView",
            "_model_name": "ProgressStyleModel",
            "description_width": "",
            "_view_module": "@jupyter-widgets/base",
            "_model_module_version": "1.5.0",
            "_view_count": null,
            "_view_module_version": "1.2.0",
            "bar_color": null,
            "_model_module": "@jupyter-widgets/controls"
          }
        },
        "3622fc20bab744638b8c0a19aa923caf": {
          "model_module": "@jupyter-widgets/base",
          "model_name": "LayoutModel",
          "model_module_version": "1.2.0",
          "state": {
            "_view_name": "LayoutView",
            "grid_template_rows": null,
            "right": null,
            "justify_content": null,
            "_view_module": "@jupyter-widgets/base",
            "overflow": null,
            "_model_module_version": "1.2.0",
            "_view_count": null,
            "flex_flow": null,
            "width": null,
            "min_width": null,
            "border": null,
            "align_items": null,
            "bottom": null,
            "_model_module": "@jupyter-widgets/base",
            "top": null,
            "grid_column": null,
            "overflow_y": null,
            "overflow_x": null,
            "grid_auto_flow": null,
            "grid_area": null,
            "grid_template_columns": null,
            "flex": null,
            "_model_name": "LayoutModel",
            "justify_items": null,
            "grid_row": null,
            "max_height": null,
            "align_content": null,
            "visibility": null,
            "align_self": null,
            "height": null,
            "min_height": null,
            "padding": null,
            "grid_auto_rows": null,
            "grid_gap": null,
            "max_width": null,
            "order": null,
            "_view_module_version": "1.2.0",
            "grid_template_areas": null,
            "object_position": null,
            "object_fit": null,
            "grid_auto_columns": null,
            "margin": null,
            "display": null,
            "left": null
          }
        },
        "90c79ae9f27442ed8ed96dbd0ef2536f": {
          "model_module": "@jupyter-widgets/controls",
          "model_name": "DescriptionStyleModel",
          "model_module_version": "1.5.0",
          "state": {
            "_view_name": "StyleView",
            "_model_name": "DescriptionStyleModel",
            "description_width": "",
            "_view_module": "@jupyter-widgets/base",
            "_model_module_version": "1.5.0",
            "_view_count": null,
            "_view_module_version": "1.2.0",
            "_model_module": "@jupyter-widgets/controls"
          }
        },
        "5c53cb83e7c1426e839af861a19819f9": {
          "model_module": "@jupyter-widgets/base",
          "model_name": "LayoutModel",
          "model_module_version": "1.2.0",
          "state": {
            "_view_name": "LayoutView",
            "grid_template_rows": null,
            "right": null,
            "justify_content": null,
            "_view_module": "@jupyter-widgets/base",
            "overflow": null,
            "_model_module_version": "1.2.0",
            "_view_count": null,
            "flex_flow": null,
            "width": null,
            "min_width": null,
            "border": null,
            "align_items": null,
            "bottom": null,
            "_model_module": "@jupyter-widgets/base",
            "top": null,
            "grid_column": null,
            "overflow_y": null,
            "overflow_x": null,
            "grid_auto_flow": null,
            "grid_area": null,
            "grid_template_columns": null,
            "flex": null,
            "_model_name": "LayoutModel",
            "justify_items": null,
            "grid_row": null,
            "max_height": null,
            "align_content": null,
            "visibility": null,
            "align_self": null,
            "height": null,
            "min_height": null,
            "padding": null,
            "grid_auto_rows": null,
            "grid_gap": null,
            "max_width": null,
            "order": null,
            "_view_module_version": "1.2.0",
            "grid_template_areas": null,
            "object_position": null,
            "object_fit": null,
            "grid_auto_columns": null,
            "margin": null,
            "display": null,
            "left": null
          }
        },
        "0703ef9f70eb4f229208672274fafa84": {
          "model_module": "@jupyter-widgets/controls",
          "model_name": "HBoxModel",
          "model_module_version": "1.5.0",
          "state": {
            "_view_name": "HBoxView",
            "_dom_classes": [],
            "_model_name": "HBoxModel",
            "_view_module": "@jupyter-widgets/controls",
            "_model_module_version": "1.5.0",
            "_view_count": null,
            "_view_module_version": "1.5.0",
            "box_style": "",
            "layout": "IPY_MODEL_1b05b55e39334e97bc6800006a2674f4",
            "_model_module": "@jupyter-widgets/controls",
            "children": [
              "IPY_MODEL_912c10cb9b6c4e37b32ed980608a8f73",
              "IPY_MODEL_1e3562d73fd24dc69e5141377a6f5ee6",
              "IPY_MODEL_a84edbc453894cf581ec73f58fb57b99"
            ]
          }
        },
        "1b05b55e39334e97bc6800006a2674f4": {
          "model_module": "@jupyter-widgets/base",
          "model_name": "LayoutModel",
          "model_module_version": "1.2.0",
          "state": {
            "_view_name": "LayoutView",
            "grid_template_rows": null,
            "right": null,
            "justify_content": null,
            "_view_module": "@jupyter-widgets/base",
            "overflow": null,
            "_model_module_version": "1.2.0",
            "_view_count": null,
            "flex_flow": null,
            "width": null,
            "min_width": null,
            "border": null,
            "align_items": null,
            "bottom": null,
            "_model_module": "@jupyter-widgets/base",
            "top": null,
            "grid_column": null,
            "overflow_y": null,
            "overflow_x": null,
            "grid_auto_flow": null,
            "grid_area": null,
            "grid_template_columns": null,
            "flex": null,
            "_model_name": "LayoutModel",
            "justify_items": null,
            "grid_row": null,
            "max_height": null,
            "align_content": null,
            "visibility": null,
            "align_self": null,
            "height": null,
            "min_height": null,
            "padding": null,
            "grid_auto_rows": null,
            "grid_gap": null,
            "max_width": null,
            "order": null,
            "_view_module_version": "1.2.0",
            "grid_template_areas": null,
            "object_position": null,
            "object_fit": null,
            "grid_auto_columns": null,
            "margin": null,
            "display": null,
            "left": null
          }
        },
        "912c10cb9b6c4e37b32ed980608a8f73": {
          "model_module": "@jupyter-widgets/controls",
          "model_name": "HTMLModel",
          "model_module_version": "1.5.0",
          "state": {
            "_view_name": "HTMLView",
            "style": "IPY_MODEL_05d437d4fa5241aea8cfc216f17320f0",
            "_dom_classes": [],
            "description": "",
            "_model_name": "HTMLModel",
            "placeholder": "​",
            "_view_module": "@jupyter-widgets/controls",
            "_model_module_version": "1.5.0",
            "value": "Downloading: 100%",
            "_view_count": null,
            "_view_module_version": "1.5.0",
            "description_tooltip": null,
            "_model_module": "@jupyter-widgets/controls",
            "layout": "IPY_MODEL_566349acf9aa484db13b790f3daddff6"
          }
        },
        "1e3562d73fd24dc69e5141377a6f5ee6": {
          "model_module": "@jupyter-widgets/controls",
          "model_name": "FloatProgressModel",
          "model_module_version": "1.5.0",
          "state": {
            "_view_name": "ProgressView",
            "style": "IPY_MODEL_ce50dad06a59433ca771899334948de6",
            "_dom_classes": [],
            "description": "",
            "_model_name": "FloatProgressModel",
            "bar_style": "success",
            "max": 762,
            "_view_module": "@jupyter-widgets/controls",
            "_model_module_version": "1.5.0",
            "value": 762,
            "_view_count": null,
            "_view_module_version": "1.5.0",
            "orientation": "horizontal",
            "min": 0,
            "description_tooltip": null,
            "_model_module": "@jupyter-widgets/controls",
            "layout": "IPY_MODEL_2f51a40740144459b42f2d1789bed86f"
          }
        },
        "a84edbc453894cf581ec73f58fb57b99": {
          "model_module": "@jupyter-widgets/controls",
          "model_name": "HTMLModel",
          "model_module_version": "1.5.0",
          "state": {
            "_view_name": "HTMLView",
            "style": "IPY_MODEL_77cbbd4a628e4baeb65395dac44a5e03",
            "_dom_classes": [],
            "description": "",
            "_model_name": "HTMLModel",
            "placeholder": "​",
            "_view_module": "@jupyter-widgets/controls",
            "_model_module_version": "1.5.0",
            "value": " 762/762 [00:00&lt;00:00, 29.4kB/s]",
            "_view_count": null,
            "_view_module_version": "1.5.0",
            "description_tooltip": null,
            "_model_module": "@jupyter-widgets/controls",
            "layout": "IPY_MODEL_c405e1b77a3f496882e009a5c38f191d"
          }
        },
        "05d437d4fa5241aea8cfc216f17320f0": {
          "model_module": "@jupyter-widgets/controls",
          "model_name": "DescriptionStyleModel",
          "model_module_version": "1.5.0",
          "state": {
            "_view_name": "StyleView",
            "_model_name": "DescriptionStyleModel",
            "description_width": "",
            "_view_module": "@jupyter-widgets/base",
            "_model_module_version": "1.5.0",
            "_view_count": null,
            "_view_module_version": "1.2.0",
            "_model_module": "@jupyter-widgets/controls"
          }
        },
        "566349acf9aa484db13b790f3daddff6": {
          "model_module": "@jupyter-widgets/base",
          "model_name": "LayoutModel",
          "model_module_version": "1.2.0",
          "state": {
            "_view_name": "LayoutView",
            "grid_template_rows": null,
            "right": null,
            "justify_content": null,
            "_view_module": "@jupyter-widgets/base",
            "overflow": null,
            "_model_module_version": "1.2.0",
            "_view_count": null,
            "flex_flow": null,
            "width": null,
            "min_width": null,
            "border": null,
            "align_items": null,
            "bottom": null,
            "_model_module": "@jupyter-widgets/base",
            "top": null,
            "grid_column": null,
            "overflow_y": null,
            "overflow_x": null,
            "grid_auto_flow": null,
            "grid_area": null,
            "grid_template_columns": null,
            "flex": null,
            "_model_name": "LayoutModel",
            "justify_items": null,
            "grid_row": null,
            "max_height": null,
            "align_content": null,
            "visibility": null,
            "align_self": null,
            "height": null,
            "min_height": null,
            "padding": null,
            "grid_auto_rows": null,
            "grid_gap": null,
            "max_width": null,
            "order": null,
            "_view_module_version": "1.2.0",
            "grid_template_areas": null,
            "object_position": null,
            "object_fit": null,
            "grid_auto_columns": null,
            "margin": null,
            "display": null,
            "left": null
          }
        },
        "ce50dad06a59433ca771899334948de6": {
          "model_module": "@jupyter-widgets/controls",
          "model_name": "ProgressStyleModel",
          "model_module_version": "1.5.0",
          "state": {
            "_view_name": "StyleView",
            "_model_name": "ProgressStyleModel",
            "description_width": "",
            "_view_module": "@jupyter-widgets/base",
            "_model_module_version": "1.5.0",
            "_view_count": null,
            "_view_module_version": "1.2.0",
            "bar_color": null,
            "_model_module": "@jupyter-widgets/controls"
          }
        },
        "2f51a40740144459b42f2d1789bed86f": {
          "model_module": "@jupyter-widgets/base",
          "model_name": "LayoutModel",
          "model_module_version": "1.2.0",
          "state": {
            "_view_name": "LayoutView",
            "grid_template_rows": null,
            "right": null,
            "justify_content": null,
            "_view_module": "@jupyter-widgets/base",
            "overflow": null,
            "_model_module_version": "1.2.0",
            "_view_count": null,
            "flex_flow": null,
            "width": null,
            "min_width": null,
            "border": null,
            "align_items": null,
            "bottom": null,
            "_model_module": "@jupyter-widgets/base",
            "top": null,
            "grid_column": null,
            "overflow_y": null,
            "overflow_x": null,
            "grid_auto_flow": null,
            "grid_area": null,
            "grid_template_columns": null,
            "flex": null,
            "_model_name": "LayoutModel",
            "justify_items": null,
            "grid_row": null,
            "max_height": null,
            "align_content": null,
            "visibility": null,
            "align_self": null,
            "height": null,
            "min_height": null,
            "padding": null,
            "grid_auto_rows": null,
            "grid_gap": null,
            "max_width": null,
            "order": null,
            "_view_module_version": "1.2.0",
            "grid_template_areas": null,
            "object_position": null,
            "object_fit": null,
            "grid_auto_columns": null,
            "margin": null,
            "display": null,
            "left": null
          }
        },
        "77cbbd4a628e4baeb65395dac44a5e03": {
          "model_module": "@jupyter-widgets/controls",
          "model_name": "DescriptionStyleModel",
          "model_module_version": "1.5.0",
          "state": {
            "_view_name": "StyleView",
            "_model_name": "DescriptionStyleModel",
            "description_width": "",
            "_view_module": "@jupyter-widgets/base",
            "_model_module_version": "1.5.0",
            "_view_count": null,
            "_view_module_version": "1.2.0",
            "_model_module": "@jupyter-widgets/controls"
          }
        },
        "c405e1b77a3f496882e009a5c38f191d": {
          "model_module": "@jupyter-widgets/base",
          "model_name": "LayoutModel",
          "model_module_version": "1.2.0",
          "state": {
            "_view_name": "LayoutView",
            "grid_template_rows": null,
            "right": null,
            "justify_content": null,
            "_view_module": "@jupyter-widgets/base",
            "overflow": null,
            "_model_module_version": "1.2.0",
            "_view_count": null,
            "flex_flow": null,
            "width": null,
            "min_width": null,
            "border": null,
            "align_items": null,
            "bottom": null,
            "_model_module": "@jupyter-widgets/base",
            "top": null,
            "grid_column": null,
            "overflow_y": null,
            "overflow_x": null,
            "grid_auto_flow": null,
            "grid_area": null,
            "grid_template_columns": null,
            "flex": null,
            "_model_name": "LayoutModel",
            "justify_items": null,
            "grid_row": null,
            "max_height": null,
            "align_content": null,
            "visibility": null,
            "align_self": null,
            "height": null,
            "min_height": null,
            "padding": null,
            "grid_auto_rows": null,
            "grid_gap": null,
            "max_width": null,
            "order": null,
            "_view_module_version": "1.2.0",
            "grid_template_areas": null,
            "object_position": null,
            "object_fit": null,
            "grid_auto_columns": null,
            "margin": null,
            "display": null,
            "left": null
          }
        },
        "dff94ca131f54734a32395786a19debd": {
          "model_module": "@jupyter-widgets/controls",
          "model_name": "HBoxModel",
          "model_module_version": "1.5.0",
          "state": {
            "_view_name": "HBoxView",
            "_dom_classes": [],
            "_model_name": "HBoxModel",
            "_view_module": "@jupyter-widgets/controls",
            "_model_module_version": "1.5.0",
            "_view_count": null,
            "_view_module_version": "1.5.0",
            "box_style": "",
            "layout": "IPY_MODEL_d16b2eb001b042ceb981d1dbf18bbfa1",
            "_model_module": "@jupyter-widgets/controls",
            "children": [
              "IPY_MODEL_f2c4c38a74744249a7f043bdb904aa12",
              "IPY_MODEL_9026ec740347491cb0d3551e55ff7a6c",
              "IPY_MODEL_753e05ebcfc24d40912d9fbc2abf0360"
            ]
          }
        },
        "d16b2eb001b042ceb981d1dbf18bbfa1": {
          "model_module": "@jupyter-widgets/base",
          "model_name": "LayoutModel",
          "model_module_version": "1.2.0",
          "state": {
            "_view_name": "LayoutView",
            "grid_template_rows": null,
            "right": null,
            "justify_content": null,
            "_view_module": "@jupyter-widgets/base",
            "overflow": null,
            "_model_module_version": "1.2.0",
            "_view_count": null,
            "flex_flow": null,
            "width": null,
            "min_width": null,
            "border": null,
            "align_items": null,
            "bottom": null,
            "_model_module": "@jupyter-widgets/base",
            "top": null,
            "grid_column": null,
            "overflow_y": null,
            "overflow_x": null,
            "grid_auto_flow": null,
            "grid_area": null,
            "grid_template_columns": null,
            "flex": null,
            "_model_name": "LayoutModel",
            "justify_items": null,
            "grid_row": null,
            "max_height": null,
            "align_content": null,
            "visibility": null,
            "align_self": null,
            "height": null,
            "min_height": null,
            "padding": null,
            "grid_auto_rows": null,
            "grid_gap": null,
            "max_width": null,
            "order": null,
            "_view_module_version": "1.2.0",
            "grid_template_areas": null,
            "object_position": null,
            "object_fit": null,
            "grid_auto_columns": null,
            "margin": null,
            "display": null,
            "left": null
          }
        },
        "f2c4c38a74744249a7f043bdb904aa12": {
          "model_module": "@jupyter-widgets/controls",
          "model_name": "HTMLModel",
          "model_module_version": "1.5.0",
          "state": {
            "_view_name": "HTMLView",
            "style": "IPY_MODEL_cb4f4aa820af49cca6cb96c8cf591840",
            "_dom_classes": [],
            "description": "",
            "_model_name": "HTMLModel",
            "placeholder": "​",
            "_view_module": "@jupyter-widgets/controls",
            "_model_module_version": "1.5.0",
            "value": "Downloading: 100%",
            "_view_count": null,
            "_view_module_version": "1.5.0",
            "description_tooltip": null,
            "_model_module": "@jupyter-widgets/controls",
            "layout": "IPY_MODEL_7b544d3a776a49de9db49db8a4c4605e"
          }
        },
        "9026ec740347491cb0d3551e55ff7a6c": {
          "model_module": "@jupyter-widgets/controls",
          "model_name": "FloatProgressModel",
          "model_module_version": "1.5.0",
          "state": {
            "_view_name": "ProgressView",
            "style": "IPY_MODEL_872c88f008fb4d27918d85a4abb96c5a",
            "_dom_classes": [],
            "description": "",
            "_model_name": "FloatProgressModel",
            "bar_style": "success",
            "max": 327744160,
            "_view_module": "@jupyter-widgets/controls",
            "_model_module_version": "1.5.0",
            "value": 327744160,
            "_view_count": null,
            "_view_module_version": "1.5.0",
            "orientation": "horizontal",
            "min": 0,
            "description_tooltip": null,
            "_model_module": "@jupyter-widgets/controls",
            "layout": "IPY_MODEL_a337af8e4284440a836892ce5b850d2a"
          }
        },
        "753e05ebcfc24d40912d9fbc2abf0360": {
          "model_module": "@jupyter-widgets/controls",
          "model_name": "HTMLModel",
          "model_module_version": "1.5.0",
          "state": {
            "_view_name": "HTMLView",
            "style": "IPY_MODEL_d9c21bbd21a04ee1bbb189ba98f4259e",
            "_dom_classes": [],
            "description": "",
            "_model_name": "HTMLModel",
            "placeholder": "​",
            "_view_module": "@jupyter-widgets/controls",
            "_model_module_version": "1.5.0",
            "value": " 313M/313M [00:09&lt;00:00, 36.1MB/s]",
            "_view_count": null,
            "_view_module_version": "1.5.0",
            "description_tooltip": null,
            "_model_module": "@jupyter-widgets/controls",
            "layout": "IPY_MODEL_54f8492fd48a4bec802ab60a4c932ee0"
          }
        },
        "cb4f4aa820af49cca6cb96c8cf591840": {
          "model_module": "@jupyter-widgets/controls",
          "model_name": "DescriptionStyleModel",
          "model_module_version": "1.5.0",
          "state": {
            "_view_name": "StyleView",
            "_model_name": "DescriptionStyleModel",
            "description_width": "",
            "_view_module": "@jupyter-widgets/base",
            "_model_module_version": "1.5.0",
            "_view_count": null,
            "_view_module_version": "1.2.0",
            "_model_module": "@jupyter-widgets/controls"
          }
        },
        "7b544d3a776a49de9db49db8a4c4605e": {
          "model_module": "@jupyter-widgets/base",
          "model_name": "LayoutModel",
          "model_module_version": "1.2.0",
          "state": {
            "_view_name": "LayoutView",
            "grid_template_rows": null,
            "right": null,
            "justify_content": null,
            "_view_module": "@jupyter-widgets/base",
            "overflow": null,
            "_model_module_version": "1.2.0",
            "_view_count": null,
            "flex_flow": null,
            "width": null,
            "min_width": null,
            "border": null,
            "align_items": null,
            "bottom": null,
            "_model_module": "@jupyter-widgets/base",
            "top": null,
            "grid_column": null,
            "overflow_y": null,
            "overflow_x": null,
            "grid_auto_flow": null,
            "grid_area": null,
            "grid_template_columns": null,
            "flex": null,
            "_model_name": "LayoutModel",
            "justify_items": null,
            "grid_row": null,
            "max_height": null,
            "align_content": null,
            "visibility": null,
            "align_self": null,
            "height": null,
            "min_height": null,
            "padding": null,
            "grid_auto_rows": null,
            "grid_gap": null,
            "max_width": null,
            "order": null,
            "_view_module_version": "1.2.0",
            "grid_template_areas": null,
            "object_position": null,
            "object_fit": null,
            "grid_auto_columns": null,
            "margin": null,
            "display": null,
            "left": null
          }
        },
        "872c88f008fb4d27918d85a4abb96c5a": {
          "model_module": "@jupyter-widgets/controls",
          "model_name": "ProgressStyleModel",
          "model_module_version": "1.5.0",
          "state": {
            "_view_name": "StyleView",
            "_model_name": "ProgressStyleModel",
            "description_width": "",
            "_view_module": "@jupyter-widgets/base",
            "_model_module_version": "1.5.0",
            "_view_count": null,
            "_view_module_version": "1.2.0",
            "bar_color": null,
            "_model_module": "@jupyter-widgets/controls"
          }
        },
        "a337af8e4284440a836892ce5b850d2a": {
          "model_module": "@jupyter-widgets/base",
          "model_name": "LayoutModel",
          "model_module_version": "1.2.0",
          "state": {
            "_view_name": "LayoutView",
            "grid_template_rows": null,
            "right": null,
            "justify_content": null,
            "_view_module": "@jupyter-widgets/base",
            "overflow": null,
            "_model_module_version": "1.2.0",
            "_view_count": null,
            "flex_flow": null,
            "width": null,
            "min_width": null,
            "border": null,
            "align_items": null,
            "bottom": null,
            "_model_module": "@jupyter-widgets/base",
            "top": null,
            "grid_column": null,
            "overflow_y": null,
            "overflow_x": null,
            "grid_auto_flow": null,
            "grid_area": null,
            "grid_template_columns": null,
            "flex": null,
            "_model_name": "LayoutModel",
            "justify_items": null,
            "grid_row": null,
            "max_height": null,
            "align_content": null,
            "visibility": null,
            "align_self": null,
            "height": null,
            "min_height": null,
            "padding": null,
            "grid_auto_rows": null,
            "grid_gap": null,
            "max_width": null,
            "order": null,
            "_view_module_version": "1.2.0",
            "grid_template_areas": null,
            "object_position": null,
            "object_fit": null,
            "grid_auto_columns": null,
            "margin": null,
            "display": null,
            "left": null
          }
        },
        "d9c21bbd21a04ee1bbb189ba98f4259e": {
          "model_module": "@jupyter-widgets/controls",
          "model_name": "DescriptionStyleModel",
          "model_module_version": "1.5.0",
          "state": {
            "_view_name": "StyleView",
            "_model_name": "DescriptionStyleModel",
            "description_width": "",
            "_view_module": "@jupyter-widgets/base",
            "_model_module_version": "1.5.0",
            "_view_count": null,
            "_view_module_version": "1.2.0",
            "_model_module": "@jupyter-widgets/controls"
          }
        },
        "54f8492fd48a4bec802ab60a4c932ee0": {
          "model_module": "@jupyter-widgets/base",
          "model_name": "LayoutModel",
          "model_module_version": "1.2.0",
          "state": {
            "_view_name": "LayoutView",
            "grid_template_rows": null,
            "right": null,
            "justify_content": null,
            "_view_module": "@jupyter-widgets/base",
            "overflow": null,
            "_model_module_version": "1.2.0",
            "_view_count": null,
            "flex_flow": null,
            "width": null,
            "min_width": null,
            "border": null,
            "align_items": null,
            "bottom": null,
            "_model_module": "@jupyter-widgets/base",
            "top": null,
            "grid_column": null,
            "overflow_y": null,
            "overflow_x": null,
            "grid_auto_flow": null,
            "grid_area": null,
            "grid_template_columns": null,
            "flex": null,
            "_model_name": "LayoutModel",
            "justify_items": null,
            "grid_row": null,
            "max_height": null,
            "align_content": null,
            "visibility": null,
            "align_self": null,
            "height": null,
            "min_height": null,
            "padding": null,
            "grid_auto_rows": null,
            "grid_gap": null,
            "max_width": null,
            "order": null,
            "_view_module_version": "1.2.0",
            "grid_template_areas": null,
            "object_position": null,
            "object_fit": null,
            "grid_auto_columns": null,
            "margin": null,
            "display": null,
            "left": null
          }
        }
      }
    }
  },
  "nbformat": 4,
  "nbformat_minor": 0
}